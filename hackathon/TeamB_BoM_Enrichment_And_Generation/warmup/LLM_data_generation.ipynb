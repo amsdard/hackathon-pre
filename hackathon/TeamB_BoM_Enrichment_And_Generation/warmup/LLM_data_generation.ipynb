{
 "cells": [
  {
   "cell_type": "markdown",
   "id": "a4137f9b",
   "metadata": {},
   "source": [
    "# Creating Structured Output with LangChain and Claude\n",
    "\n",
    "This notebook demonstrates a simple approach to generate structured output using LangChain with Claude. We'll focus on the Pydantic method, which is the most straightforward and commonly used approach."
   ]
  },
  {
   "cell_type": "markdown",
   "id": "1417fe0f",
   "metadata": {},
   "source": [
    "Before we start, create `.env` file and paste there Claude API key:\n",
    "\n",
    "`CLAUDE_API_KEY=your_api_key`"
   ]
  },
  {
   "cell_type": "code",
   "execution_count": null,
   "id": "3060e6d0",
   "metadata": {},
   "outputs": [],
   "source": [
    "import os\n",
    "from dotenv import load_dotenv\n",
    "from typing import List\n",
    "from pydantic import BaseModel, Field\n",
    "\n",
    "from langchain_anthropic import ChatAnthropic\n",
    "from langchain.prompts import ChatPromptTemplate\n",
    "from langchain_core.output_parsers import PydanticOutputParser, JsonOutputParser\n",
    "\n",
    "# Load environment variables (particularly ANTHROPIC_API_KEY)\n",
    "load_dotenv()"
   ]
  },
  {
   "cell_type": "markdown",
   "id": "169db8ac",
   "metadata": {},
   "source": [
    "## Structured Output Example: Movie Recommendation\n",
    "\n",
    "Let's create a structured output for a movie recommendation system"
   ]
  },
  {
   "cell_type": "code",
   "execution_count": null,
   "id": "7907c022",
   "metadata": {},
   "outputs": [],
   "source": [
    "# Step 1: Define your data structure using Pydantic\n",
    "\n",
    "\n",
    "class MovieRecommendation(BaseModel):\n",
    "    title: str = Field(description=\"The title of the movie\")\n",
    "    year: int = Field(description=\"The year the movie was released\")\n",
    "    director: str = Field(description=\"The director of the movie\")\n",
    "    genre: List[str] = Field(description=\"List of genres for the movie\")\n",
    "    plot_summary: str = Field(description=\"A brief summary of the movie plot\")\n",
    "    rating: float = Field(description=\"Rating from 0.0 to 10.0\")\n",
    "    reasons_to_watch: List[str] = Field(\n",
    "        description=\"Reasons why the user might enjoy this movie\"\n",
    "    )"
   ]
  },
  {
   "cell_type": "code",
   "execution_count": null,
   "id": "95a574d9",
   "metadata": {},
   "outputs": [],
   "source": [
    "# Step 2: Create a parser for this model\n",
    "parser = PydanticOutputParser(pydantic_object=MovieRecommendation)"
   ]
  },
  {
   "cell_type": "code",
   "execution_count": null,
   "id": "3f6695d1",
   "metadata": {},
   "outputs": [],
   "source": [
    "# Step 3: Initialize Claude model\n",
    "model_version = \"claude-3-sonnet-20240229\"  # Example model version\n",
    "\n",
    "model = ChatAnthropic(\n",
    "    model=model_version,  # You can use other Claude models too\n",
    "    anthropic_api_key=os.getenv(\"ANTHROPIC_API_KEY\"),\n",
    "    temperature=0,\n",
    ")"
   ]
  },
  {
   "cell_type": "code",
   "execution_count": null,
   "id": "51d4d191",
   "metadata": {},
   "outputs": [],
   "source": [
    "# Step 4: Create a prompt template that includes the format instructions\n",
    "template = \"\"\"\n",
    "Based on the user's movie preferences, recommend a movie with the following details.\n",
    "{format_instructions}\n",
    "\n",
    "User preferences: {preferences}\n",
    "\"\"\""
   ]
  },
  {
   "cell_type": "code",
   "execution_count": null,
   "id": "e0540215",
   "metadata": {},
   "outputs": [],
   "source": [
    "prompt = ChatPromptTemplate.from_template(\n",
    "    template,\n",
    "    partial_variables={\"format_instructions\": parser.get_format_instructions()},\n",
    ")"
   ]
  },
  {
   "cell_type": "code",
   "execution_count": null,
   "id": "54cad67e",
   "metadata": {},
   "outputs": [],
   "source": [
    "# Step 5: Create the chain\n",
    "chain = prompt | model | parser"
   ]
  },
  {
   "cell_type": "code",
   "execution_count": null,
   "id": "4e3eedf8",
   "metadata": {},
   "outputs": [],
   "source": [
    "# Step 6: Run the chain\n",
    "user_preferences = \"I enjoy psychological thrillers with plot twists. Some of my favorite directors are Christopher Nolan and David Fincher.\"\n",
    "\n",
    "result = chain.invoke({\"preferences\": user_preferences})\n",
    "print(result)"
   ]
  },
  {
   "cell_type": "markdown",
   "id": "a5f4c0d8",
   "metadata": {},
   "source": [
    "The output will be a structured Python object."
   ]
  },
  {
   "cell_type": "markdown",
   "id": "f90ea43b",
   "metadata": {},
   "source": [
    "## Method 2: JSON Output Parser"
   ]
  },
  {
   "cell_type": "code",
   "execution_count": null,
   "id": "918161e3",
   "metadata": {},
   "outputs": [],
   "source": [
    "json_parser = JsonOutputParser()"
   ]
  },
  {
   "cell_type": "code",
   "execution_count": null,
   "id": "49767752",
   "metadata": {},
   "outputs": [],
   "source": [
    "restaurant_template = \"\"\"\n",
    "Generate a detailed restaurant review for {restaurant_name} in JSON format.\n",
    "The review should include:\n",
    "- name: The name of the restaurant\n",
    "- cuisine: The type of cuisine served\n",
    "- price_range: Dollar signs ($, $$, $$$, or $$$$)\n",
    "- rating: A numerical rating from 1-5\n",
    "- pros: A list of highlights about the restaurant\n",
    "- cons: A list of drawbacks or areas for improvement\n",
    "- signature_dishes: A list of must-try dishes\n",
    "- review_text: A brief written review\n",
    "\n",
    "{format_instructions}\n",
    "\"\"\""
   ]
  },
  {
   "cell_type": "code",
   "execution_count": null,
   "id": "5cf2c4de",
   "metadata": {},
   "outputs": [],
   "source": [
    "restaurant_prompt = ChatPromptTemplate.from_template(\n",
    "    restaurant_template,\n",
    "    partial_variables={\"format_instructions\": json_parser.get_format_instructions()},\n",
    ")"
   ]
  },
  {
   "cell_type": "code",
   "execution_count": null,
   "id": "d2b60582",
   "metadata": {},
   "outputs": [],
   "source": [
    "restaurant_chain = restaurant_prompt | model | json_parser"
   ]
  },
  {
   "cell_type": "code",
   "execution_count": null,
   "id": "9f8e9d50",
   "metadata": {},
   "outputs": [],
   "source": [
    "from pprint import pprint\n",
    "\n",
    "# Test the chain\n",
    "result = restaurant_chain.invoke({\"restaurant_name\": \"Pasta Paradise\"})\n",
    "pprint(result)"
   ]
  },
  {
   "cell_type": "markdown",
   "id": "e5f443b3",
   "metadata": {},
   "source": [
    "## Explanation\n",
    "\n",
    "1. We defined a `MovieRecommendation` class using Pydantic and restaurant JSON that specifies the structure we want\n",
    "2. We created a parser that will convert the LLM output into these structures\n",
    "3. We set up a prompt template that includes instructions for formatting the output\n",
    "4. We built a simple chain: prompt → model → parser\n",
    "5. When invoked, the chain generates a structured object that matches our defined schema\n",
    "\n",
    "This approach ensures that Claude's responses are formatted consistently and can be easily processed by your application. The Pydantic model handles validation and provides clear type hints."
   ]
  },
  {
   "cell_type": "markdown",
   "id": "98cc2301",
   "metadata": {},
   "source": []
  }
 ],
 "metadata": {
  "kernelspec": {
   "display_name": "Python 3",
   "language": "python",
   "name": "python3"
  },
  "language_info": {
   "codemirror_mode": {
    "name": "ipython",
    "version": 3
   },
   "file_extension": ".py",
   "mimetype": "text/x-python",
   "name": "python",
   "nbconvert_exporter": "python",
   "pygments_lexer": "ipython3",
   "version": "3.12.10"
  }
 },
 "nbformat": 4,
 "nbformat_minor": 5
}
